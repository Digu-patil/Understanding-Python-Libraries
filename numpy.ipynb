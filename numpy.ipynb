{
 "cells": [
  {
   "cell_type": "markdown",
   "id": "b9ba1ac4",
   "metadata": {},
   "source": [
    "# Basics"
   ]
  },
  {
   "cell_type": "markdown",
   "id": "bfd10063",
   "metadata": {},
   "source": [
    "Let's consdier the following Python List\n",
    "\n",
    "There are a few points that we should note here\n",
    "1. the list has differnt datatypes\n",
    "2. each element 1,two and 3.0 is a full fledged python object and has it's own information\n",
    "    a. Type information\n",
    "    b. Reference count\n",
    "    c. The value itself\n",
    "3. The list just stores the reference to these objects\n",
    "4. The main point to note here is that the memory is scattered and it's inefficient for numberic operations"
   ]
  },
  {
   "cell_type": "code",
   "execution_count": 30,
   "id": "32edba0a",
   "metadata": {},
   "outputs": [
    {
     "name": "stdout",
     "output_type": "stream",
     "text": [
      "1 is of type <class 'int'> and is located at 140705101513640\n",
      "two is of type <class 'str'> and is located at 2589548991648\n",
      "3.0 is of type <class 'float'> and is located at 2589698837648\n"
     ]
    }
   ],
   "source": [
    "py_list = [1,\"two\", 3.0]\n",
    "for i in py_list:\n",
    "    print(f'{i} is of type {type(i)} and is located at {id(i)}')"
   ]
  },
  {
   "cell_type": "markdown",
   "id": "c7d6ef56",
   "metadata": {},
   "source": [
    "This is where numpy makes a great difference\n",
    "1. It allows only same data type elements\n",
    "2. The array only needs raw data, and the shape of the number of rows and columns\n",
    "\n",
    "Few more points to note are\n",
    "1. numpy \"upcasts\" the entire array -> in this case it upcasted the entire array to string\n",
    "2. id() gives the memoery address for regular python object. "
   ]
  },
  {
   "cell_type": "code",
   "execution_count": 31,
   "id": "3d99376c",
   "metadata": {},
   "outputs": [
    {
     "name": "stdout",
     "output_type": "stream",
     "text": [
      "1 is of type <class 'numpy.str_'> and is located at <memory at 0x0000025AEFAA1080>\n",
      "two is of type <class 'numpy.str_'> and is located at <memory at 0x0000025AEFAA1BC0>\n",
      "3.0 is of type <class 'numpy.str_'> and is located at <memory at 0x0000025AEFAA1BC0>\n"
     ]
    }
   ],
   "source": [
    "import numpy as np\n",
    "\n",
    "numpy_array = np.array(py_list)\n",
    "for i in numpy_array:\n",
    "    print(f'{i} is of type {type(i)} and is located at {i.data}')"
   ]
  },
  {
   "cell_type": "markdown",
   "id": "7f5f6a24",
   "metadata": {},
   "source": [
    "# List V/S Array"
   ]
  },
  {
   "cell_type": "markdown",
   "id": "835f0b55",
   "metadata": {},
   "source": [
    "1. Once we define the size of a numpy array we cannot modify it, unlike we can append on list\n",
    "2. Numpy array are faster as they are stored as a contiguous blocks of memory\n",
    "3. They are 6 times more memory efficient than reqular lists"
   ]
  },
  {
   "cell_type": "code",
   "execution_count": 34,
   "id": "48fe50e2",
   "metadata": {},
   "outputs": [
    {
     "name": "stdout",
     "output_type": "stream",
     "text": [
      "py_list_1000 is of type <class 'list'> and it has 990000 elements and the size of the list is 8448728 bytes\n",
      "py_list_1000 is of type <class 'numpy.ndarray'> and it has 990000 elements and the size of the list is 7920112 bytes\n",
      "py_list_1000 is of type <class 'numpy.ndarray'> and it has 990000 elements and the size of the list is 7920000 bytes\n",
      "1.3 ms ± 34.8 μs per loop (mean ± std. dev. of 7 runs, 1,000 loops each)\n",
      "79 ms ± 913 μs per loop (mean ± std. dev. of 7 runs, 10 loops each)\n"
     ]
    }
   ],
   "source": [
    "import sys\n",
    "import timeit\n",
    "py_list_1000 = []\n",
    "append_operation = [py_list_1000.append(float(i)) for i in range(10000,1000000)]\n",
    "\n",
    "print(f\"py_list_1000 is of type {type(py_list_1000)} and it has {len(py_list_1000)} elements and the size of the list is {sys.getsizeof(py_list_1000)} bytes\")\n",
    "\n",
    "numpy_array_1000 = np.array(py_list_1000)\n",
    "print(f\"py_list_1000 is of type {type(numpy_array_1000)} and it has {len(numpy_array_1000)} elements and the size of the list is {sys.getsizeof(numpy_array_1000)} bytes\")\n",
    "\n",
    "\"\"\"\n",
    "array.size v/s len()\n",
    "array.nbytes v/s sys.getsizeof()\n",
    "\n",
    "sys.getsizeof() this retuns the size of the python object, it has all the metadata\n",
    "while nbytes only does the itemsize * elements in this case 8 bytes for int * 1000 elements\n",
    "\"\"\"\n",
    "print(f\"py_list_1000 is of type {type(numpy_array_1000)} and it has {numpy_array_1000.size} elements and the size of the list is {numpy_array_1000.nbytes} bytes\")\n",
    "\n",
    "\"\"\"\n",
    "Lets do some math operation on lists and arrays\n",
    "\"\"\"\n",
    "%timeit numpy_array_1000**2\n",
    "%timeit [py_list_1000[i]**2 for i in range(len(py_list_1000))]\n"
   ]
  }
 ],
 "metadata": {
  "kernelspec": {
   "display_name": "Python 3",
   "language": "python",
   "name": "python3"
  },
  "language_info": {
   "codemirror_mode": {
    "name": "ipython",
    "version": 3
   },
   "file_extension": ".py",
   "mimetype": "text/x-python",
   "name": "python",
   "nbconvert_exporter": "python",
   "pygments_lexer": "ipython3",
   "version": "3.13.1"
  }
 },
 "nbformat": 4,
 "nbformat_minor": 5
}
