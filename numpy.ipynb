{
 "cells": [
  {
   "cell_type": "code",
   "execution_count": 1,
   "id": "6ee62db2",
   "metadata": {},
   "outputs": [],
   "source": [
    "import numpy as np"
   ]
  },
  {
   "cell_type": "markdown",
   "id": "d12c00b5",
   "metadata": {},
   "source": [
    "### Numerical Python (NumPy)\n",
    "\n",
    "1. Designed for ***faster numerical opeartions*** leveraging C++\n",
    "2. Most of the udnerlying function use CPython API to use C++ code in python\n",
    "3. The main core of NumPy is ***ndarray()*** - These are similar to python lists but are not as dynamic\n",
    "    - We cannot change the size of an array.\n",
    "    - Once a array is defiened we cannot append data to it, although we can udpate data in a array\n",
    "    - Numpy array can have the same datatype\n",
    "    - If the array elements have multiple datatypes, numpy will upcast the datatypes."
   ]
  },
  {
   "cell_type": "code",
   "execution_count": 5,
   "id": "efab3e72",
   "metadata": {},
   "outputs": [
    {
     "name": "stdout",
     "output_type": "stream",
     "text": [
      "[1, 'two', 3.0]\n",
      "[1, 'two', 3.0, 4]\n",
      "1 is of type <class 'int'>\n",
      "two is of type <class 'str'>\n",
      "3.0 is of type <class 'float'>\n",
      "4 is of type <class 'int'>\n"
     ]
    }
   ],
   "source": [
    "list1 = [1,\"two\",3.0]\n",
    "print(list1)\n",
    "\n",
    "# Appending data to a list\n",
    "list1.append(4)\n",
    "print(list1)\n",
    "\n",
    "# Also note that each element has a different datatype\n",
    "print(f'{list1[0]} is of type {type(list1[0])}\\n{list1[1]} is of type {type(list1[1])}\\n{list1[2]} is of type {type(list1[2])}\\n{list1[3]} is of type {type(list1[3])}')"
   ]
  },
  {
   "cell_type": "markdown",
   "id": "188dbede",
   "metadata": {},
   "source": [
    "---\n",
    "### Upcasting and Contiguous memory block\n",
    "\n",
    "1. All the array elements are upcasted to the same data type (string in the below case)\n",
    "2. Storing of the array elements happens in a contiguous block of memory unlike list where each element is stored seperately in the memory"
   ]
  },
  {
   "cell_type": "code",
   "execution_count": 35,
   "id": "13a822dd",
   "metadata": {},
   "outputs": [
    {
     "name": "stdout",
     "output_type": "stream",
     "text": [
      "\n",
      "Size fo the array is 3,\n",
      "Array is of type <class 'numpy.ndarray'>\n",
      "\n",
      "1 is of type <class 'numpy.str_'> and is stored at <memory at 0x000001C7FFA4D080>\n",
      "two is of type <class 'numpy.str_'> and is stored at <memory at 0x000001C7FFA4D080>\n",
      "3 is of type <class 'numpy.str_'> and is stored at <memory at 0x000001C7FFA4D080>\n"
     ]
    }
   ],
   "source": [
    "arr1 = np.array([1,\"two\",3])\n",
    "\n",
    "# Now the size of the aray is defined, we cannot add more element to arr1, but we can update the existing elements to it\n",
    "arr1_details = f\"\"\"\n",
    "Size fo the array is {arr1.size},\n",
    "Array is of type {type(arr1)}\n",
    "\"\"\"\n",
    "print(arr1_details)\n",
    "\n",
    "for i in range(0,len(arr1)):\n",
    "    print(f\"{arr1[i]} is of type {type(arr1[i])} and is stored at {arr1[i].data}\")"
   ]
  },
  {
   "cell_type": "markdown",
   "id": "4d76afe1",
   "metadata": {},
   "source": [
    "---\n",
    "### Differnet ways to create numpy array\n",
    "1. Converting an exisitng list/tuple to np array\n",
    "2. Create array with constant values (zeros, ones, or any other desired value)\n",
    "3. Using inbuit function \n",
    "    a. arange() - similar to range funciton in python\n",
    "    b. linspace() - helps generate floating point numbers within the given range\n",
    "    Note - by default linspace will give you 50 values, but we can limit it with the last paramater"
   ]
  },
  {
   "cell_type": "code",
   "execution_count": 47,
   "id": "717c1807",
   "metadata": {},
   "outputs": [
    {
     "name": "stdout",
     "output_type": "stream",
     "text": [
      "list2 is of type <class 'list'> and has the following elements [1, 2, 3, 4, 5, 6, 7]\n",
      "arr2 is of type <class 'numpy.ndarray'> and has the following elements [1 2 3 4 5 6 7]\n",
      "One dimensional array [0. 0. 0. 0. 0.]\n",
      "Two dimensional array [[0. 0.]\n",
      " [0. 0.]\n",
      " [0. 0.]\n",
      " [0. 0.]\n",
      " [0. 0.]]\n",
      "Three dimensional arry of 1s [[[1. 1.]\n",
      "  [1. 1.]]\n",
      "\n",
      " [[1. 1.]\n",
      "  [1. 1.]]]\n",
      "[6. 6. 6. 6. 6. 6. 6. 6. 6. 6.]\n",
      "[10 10 10 10 10]\n",
      "\n",
      "Using the arange function we get = \n",
      "[0 1 2 3],\n",
      "Using the linspace fucntion we get = \n",
      "[4.   4.25 4.5  4.75 5.  ]\n",
      "\n"
     ]
    }
   ],
   "source": [
    "list2 = [1,2,3,4,5,6,7]\n",
    "print(f'list2 is of type {type(list2)} and has the following elements {list2}')\n",
    "\n",
    "# Converting an existing list/type to np array\n",
    "arr2 = np.array(list2)\n",
    "print(f'arr2 is of type {type(arr2)} and has the following elements {arr2}')\n",
    "\n",
    "\n",
    "print(f'One dimensional array {np.zeros(5)}') # array with zeros - 5 columns\n",
    "print(f'Two dimensional array {np.zeros([5,2])}') # array with zeros - 5  columns and 2 rows\n",
    "print(f'Three dimensional arry of 1s {np.ones([2,2,2])}') # 3 dim array of 1s\n",
    "\n",
    "\"\"\" Array with constant values aprat from 1 and 0\n",
    "There are two ways to do it\n",
    "1. Create an empty array then fill the desired number\n",
    "2. use the full function instead\n",
    "\"\"\"\n",
    "const_val_arr = np.empty(10, dtype = float)\n",
    "const_val_arr.fill(6)\n",
    "print(const_val_arr)\n",
    "\n",
    "print(np.full(5,10)) # Directly creates a array with 5 elements with 10 as the constant value\n",
    "\n",
    "print(f\"\"\"\n",
    "Using the arange function we get = \n",
    "{np.arange(4)},\n",
    "Using the linspace fucntion we get = \n",
    "{np.linspace(4,5,5)}\n",
    "\"\"\")\n"
   ]
  },
  {
   "cell_type": "markdown",
   "id": "83ae4768",
   "metadata": {},
   "source": [
    "---\n",
    "### Attributes of an array\n",
    "\n",
    "1. type - .dtype\n",
    "2. dimension - .ndim\n",
    "3. shape - .shape\n",
    "4. size - .size (signifies number of elements in each dimension)"
   ]
  },
  {
   "cell_type": "code",
   "execution_count": 64,
   "id": "1263de45",
   "metadata": {},
   "outputs": [
    {
     "name": "stdout",
     "output_type": "stream",
     "text": [
      "\n",
      "[1 2 3 4 5 6] is of 1 dimension, has (6,) shape, it's size is 6 and is of type int32\n",
      "[[1 2 3]\n",
      " [4 5 6]] is of 2 dimension, has (2, 3) shape, it's size is 6 and is of type int64\n",
      "[[[1 2]\n",
      "  [3 4]]\n",
      "\n",
      " [[5 6]\n",
      "  [0 0]]] is of 3 dimension, has (2, 2, 2) shape, it's size is 8 and is of type int64\n",
      "\n"
     ]
    }
   ],
   "source": [
    "# let's try to determine the attributes of arraya\n",
    "\n",
    "one_dim = np.array([1,2,3,4,5,6],dtype = np.int32) # default type would be int64\n",
    "two_dim = np.array([[1,2,3],[4,5,6]])\n",
    "three_dim = np.array([[[1,2],[3,4]],[[5,6],[0,0]]])\n",
    "\n",
    "msg1 = f'''\n",
    "{one_dim} is of {one_dim.ndim} dimension, has {one_dim.shape} shape, it's size is {one_dim.size} and is of type {one_dim.dtype}\n",
    "{two_dim} is of {two_dim.ndim} dimension, has {two_dim.shape} shape, it's size is {two_dim.size} and is of type {two_dim.dtype}\n",
    "{three_dim} is of {three_dim.ndim} dimension, has {three_dim.shape} shape, it's size is {three_dim.size} and is of type {three_dim.dtype}\n",
    "'''\n",
    "\n",
    "print(msg1)"
   ]
  },
  {
   "cell_type": "markdown",
   "id": "2801a199",
   "metadata": {},
   "source": [
    "---\n",
    "### Manipulating Arrays\n",
    "\n",
    "1. Adding = .append\n",
    "2. Removing = .remove \n",
    "3. Sorting = .sort\n",
    "4. Updating = "
   ]
  },
  {
   "cell_type": "code",
   "execution_count": null,
   "id": "a5cddc8b",
   "metadata": {},
   "outputs": [
    {
     "name": "stdout",
     "output_type": "stream",
     "text": [
      "This [1 2 3 4] is the original array at location 1957952086880\n",
      "This [1 2 3 4 5] has the following python memeory view 1957885800096\n",
      "This [1 2 3 4 5] has the following python memeory view 1957885456624\n",
      "[1 2 3 4] was created at memory location 1957952089504\n",
      "{'data': (1957885456624, False), 'strides': None, 'descr': [('', '<i8')], 'typestr': '<i8', 'shape': (5,), 'version': 3}\n"
     ]
    }
   ],
   "source": [
    "\"\"\"\n",
    "Note -\n",
    "Appending / Inserting an element in a Numpy array creates a new array at a different memeory location\n",
    "\"\"\"\n",
    "og_arr = np.array([1,2,3,4])\n",
    "\n",
    "print(f'This {og_arr} is the original array at location {og_arr.__array_interface__['data'][0]}')\n",
    "\n",
    "insert_arr = np.insert(og_arr,4,5) # this inserts 20 at location 3\n",
    "print(f'This {insert_arr} has the following python memeory view {insert_arr.__array_interface__['data'][0]}')\n",
    "\n",
    "append_arr = np.append(og_arr,5) # this appends 5 at the end of the array\n",
    "print(f'This {append_arr} has the following python memeory view {append_arr.__array_interface__['data'][0]}')\n",
    "\n",
    "# Deleting an element from an array\n",
    "del_arr = np.delete(append_arr,4)\n",
    "print(f'{del_arr} was created at memory location {del_arr.__array_interface__['data'][0]}')\n",
    "\n",
    "\n",
    "\n",
    "\n"
   ]
  },
  {
   "cell_type": "markdown",
   "id": "da937c15",
   "metadata": {},
   "source": [
    "---\n",
    "### Copies and Views in Numpy\n",
    "\n",
    "COPY - create these when you need isolation\n",
    "1. This creates a deep copy\n",
    "2. New array object is created at a <u>**different memory location**</u>\n",
    "3. Changes in original array do not affect copied array\n",
    "2. Views - Same location is being referenced - this is a copy created using assignment, any changes to the original and the copy reflect on each other\n",
    "\n",
    "VIEW - create these when memory matters and you want to sclice and dice the data keeping the same structure\n",
    "1. Creates a new array object but has the <u>**same memory location**</u>\n",
    "2. Modifying one changes the other.\n",
    "3. The only change is a new array object is created\n",
    "\n",
    ".base - return None when an array is a copy\n",
    "\n",
    "NOTE -\n",
    "cp_arr = og_arr, This is just assignment, i.e., we are just givin og_arr a different alias an nothing will happend here cp_arr will be same as og_arr in all aspects,\n",
    "there just would be a name difference \n",
    "\n"
   ]
  },
  {
   "cell_type": "code",
   "execution_count": null,
   "id": "e9965ccb",
   "metadata": {},
   "outputs": [
    {
     "name": "stdout",
     "output_type": "stream",
     "text": [
      "Original array contains [1 2 3 4] and is located at 1451917990656\n",
      "Copied array contains [1 2 3 4] and is located at 1451917991648\n",
      "View array contains [1 2 3 4] and is located at 1451917990656\n",
      "view_arr = [67  2  3  4], original_arr = [67  2  3  4]\n",
      "copy_arr = None, view_arr = [67  2  3  4]\n"
     ]
    }
   ],
   "source": [
    "original_arr = np.array([1,2,3,4])\n",
    "\n",
    "print(f'Original array contains {original_arr} and is located at {original_arr.__array_interface__['data'][0]}')\n",
    "\n",
    "copy_arr = original_arr.copy()\n",
    "# Check 1 - Memory Location = Different\n",
    "print(f'Copied array contains {copy_arr} and is located at {copy_arr.__array_interface__['data'][0]}')\n",
    "# Check 2 - Element Update = Creates a deep copy, changes are not passed on \n",
    "copy_arr[0] = 67 \n",
    "\n",
    "# Creating a view of the original array\n",
    "view_arr = original_arr.view()\n",
    "# Check 1 - Memory Location = Same\n",
    "print(f'View array contains {view_arr} and is located at {view_arr.__array_interface__['data'][0]}')\n",
    "# Check 2 - Element Update = chagtes are passed on\n",
    "view_arr[0] = 67\n",
    "print(f'view_arr = {view_arr}, original_arr = {original_arr}')\n",
    "\n",
    "# Final Check - Copy/View\n",
    "print(f'copy_arr = {copy_arr.base}, view_arr = {view_arr.base}') # copyu_arr return None as its a deep copy and own the data\n",
    "\n"
   ]
  },
  {
   "cell_type": "markdown",
   "id": "7158f50c",
   "metadata": {},
   "source": [
    "---\n",
    "\n",
    "### Reshaping Arrays\n",
    "\n",
    "RESHAPE\n",
    "1. Creates a reshaped **VIEW** of the array\n",
    "2. All rules of views apply to reshape as well\n",
    "\n",
    "FLATTEN\n",
    "1. Creates a **COPY** of the array\n",
    "2. Has a seperate memory location\n",
    "\n",
    "RAVEL\n",
    "1. Creates a **VIEW** of the array\n",
    "2. Has the same memory location, all rules of view apply to ravel\n",
    "\n"
   ]
  },
  {
   "cell_type": "code",
   "execution_count": 8,
   "id": "d00a46ea",
   "metadata": {},
   "outputs": [
    {
     "name": "stdout",
     "output_type": "stream",
     "text": [
      "[ 1  2  3  4  5  6  7  8  9 10 11 12] has 1 dimension\n",
      "2567972584544\n",
      "[[ 1  2  3  4]\n",
      " [ 5  6  7  8]\n",
      " [ 9 10 11 12]] has 2 dimension\n",
      "2567972584544\n",
      "[ 1  2  3  4 67  6  7  8  9 10 11 12] [[ 1  2  3  4]\n",
      " [67  6  7  8]\n",
      " [ 9 10 11 12]]\n",
      "-----------------------------\n",
      "Original array was \n",
      " [[0.48028761 0.88774126 0.23619009 0.04729734]\n",
      " [0.61095234 0.29773936 0.35535918 0.9163386 ]\n",
      " [0.13948715 0.49556328 0.8755326  0.53163587]],\n",
      "\n",
      " Flatenned array is \n",
      "[0.48028761 0.88774126 0.23619009 0.04729734 0.61095234 0.29773936\n",
      " 0.35535918 0.9163386  0.13948715 0.49556328 0.8755326  0.53163587]\n",
      " and its a View of the original array \n",
      "\n",
      "This is done using the flatten method and is a Copy \n",
      " [0.48028761 0.88774126 0.23619009 0.04729734 0.61095234 0.29773936\n",
      " 0.35535918 0.9163386  0.13948715 0.49556328 0.8755326  0.53163587] \n",
      " \n",
      "This is done using the ravel method and is a View \n",
      " [0.48028761 0.88774126 0.23619009 0.04729734 0.61095234 0.29773936\n",
      " 0.35535918 0.9163386  0.13948715 0.49556328 0.8755326  0.53163587] \n",
      "\n"
     ]
    }
   ],
   "source": [
    "arr3 = np.arange(1,13) # this creates a one dim array with 12 elements\n",
    "print(f'{arr3} has {arr3.ndim} dimension')\n",
    "print(arr3.__array_interface__['data'][0])\n",
    "\n",
    "two_dim_arr = np.reshape(arr3, (3,4))\n",
    "print(f'{two_dim_arr} has {two_dim_arr.ndim} dimension')\n",
    "print(two_dim_arr.__array_interface__['data'][0])\n",
    "\n",
    "two_dim_arr[1][0]= 67\n",
    "\n",
    "print(arr3, two_dim_arr) # This confirms that reshape creates a view and changes to view also changes the original\n",
    "print(\"-----------------------------\")\n",
    "\n",
    "\"\"\"\n",
    "Flatenning the arrays\n",
    "\"\"\"\n",
    "flat_test = np.random.rand(3,4)\n",
    "\n",
    "flat_arr = np.reshape(flat_test,-1) # move one dim earlier\n",
    "\n",
    "print(f'Original array was \\n {flat_test},\\n\\n Flatenned array is \\n{flat_arr}\\n and its a {'Copy' if flat_arr.base is None else 'View'} of the original array \\n')\n",
    "\n",
    "# FLATTEN METHOD\n",
    "fl_arr = flat_test.flatten()\n",
    "print(f'This is done using the flatten method and is a {'Copy' if fl_arr.base is None else 'View'} \\n {fl_arr} \\n ')\n",
    "\n",
    "ravel_arr = flat_test.ravel()\n",
    "print(f'This is done using the ravel method and is a {'Copy' if ravel_arr.base is None else 'View'} \\n {ravel_arr} \\n')\n",
    "\n"
   ]
  },
  {
   "cell_type": "markdown",
   "id": "c6db4cc3",
   "metadata": {},
   "source": [
    "---\n",
    "\n",
    "### Important Notes on Ravel and Reshape\n",
    "(Consdier Ravel a special case of reshape i.e., reshpae(-1) to create a 1D array)\n",
    "\n",
    "#### No gaurantee of 100 % views\n",
    "1. Ravel and Reshape will not always return a view.\n",
    "2. As views refer to the same memory location, sometimes the memoery layout of the original array dosen't allow\n",
    "the requested shape/order, so Numpy make a new array for such cases\n",
    "\n",
    "#### C - Order | F - Order\n",
    "1. C language order - this is row based i.e., [[1,2],[3,4]] will be flattened as [1,2,3,4]\n",
    "2. Fortran order - this is column based i.e., [[1,2],[3,4]] will be flattened as [1,3,2,4]"
   ]
  },
  {
   "cell_type": "code",
   "execution_count": null,
   "id": "4b943e07",
   "metadata": {},
   "outputs": [
    {
     "name": "stdout",
     "output_type": "stream",
     "text": [
      "This is of order C and is a row based array, and is stored at 2568037071344 \n",
      " [[0 1 2]\n",
      " [3 4 5]] \n",
      "\n",
      "This is of order F and is a column based array 2568037071200 \n",
      " [[0 2 4]\n",
      " [1 3 5]] \n",
      "\n",
      "The row based array is flattened using reshape and is a VIEW,\n",
      "      The meomery location is also same as the original\n",
      "      , [0 1 2 3 4 5]\n",
      "The column based array is flattened using reshape and is a COPY,\n",
      "      The meomery location is different\n",
      "      , [0 2 4 1 3 5]\n",
      "None\n",
      "[0 1 2 3 4 5]\n"
     ]
    }
   ],
   "source": [
    "# This will generate a row based array\n",
    "c_arr = np.arange(6).reshape(2,3, order=\"C\")\n",
    "'''[[0 1 2]\n",
    " [3 4 5]]'''\n",
    "\n",
    "# This will generate a column based array\n",
    "f_arr = np.arange(6).reshape(2,3, order=\"F\")\n",
    "'''[[0 2 4]\n",
    " [1 3 5]]'''\n",
    "\n",
    "print(f'This is of order C and is a row based array, and is stored at {c_arr.__array_interface__['data'][0]} \\n {c_arr} \\n')\n",
    "\n",
    "print(f'This is of order F and is a column based array {f_arr.__array_interface__['data'][0]} \\n {f_arr} \\n')\n",
    "\n",
    "#------------------------------------------\n",
    "\n",
    "flat_c_arr = c_arr.ravel()\n",
    "print(f'''The row based array is flattened using reshape and is a {\"COPY\" if flat_c_arr.base is None else \"VIEW\"},\n",
    "      The meomery location is {\"also same as the original\" if c_arr.__array_interface__['data'][0] == flat_c_arr.__array_interface__['data'][0] else \"different\"}\n",
    "      , {flat_c_arr}''')\n",
    "\n",
    "flat_f_arr = f_arr.ravel()\n",
    "print(f'''The column based array is flattened using reshape and is a {\"COPY\" if flat_f_arr.base is None else \"VIEW\"},\n",
    "      The meomery location is {\"also same as the original\" if f_arr.__array_interface__['data'][0] == flat_f_arr.__array_interface__['data'][0] else \"different\"}\n",
    "      , {flat_f_arr}''')\n"
   ]
  },
  {
   "cell_type": "markdown",
   "id": "f77555cd",
   "metadata": {},
   "source": [
    "---\n",
    "### Joining Arrays\n",
    "\n",
    "Let's first understand the concept the concpet of axis in numpy\n",
    "1. axis = 0 --> row wise stacking / concatenate\n",
    "2. axis = 1 --> column wise stacking / concatenation\n",
    "3. axis = 2 --> \n",
    "\n",
    "CONCATENATE\n",
    "1. Join sequence of arrays along an existing axis\n",
    "2. axis = 0 by default\n",
    "3. It does not add a new dimension\n",
    "\n",
    "STACK\n",
    "1. Joins along a new axis, hence adds a new dimesion\n",
    "2. axis = 0 by default\n",
    "\n",
    "HSTACK\n",
    "1. This is a special case of concatenate\n",
    "2. concatenate along axis = 1\n",
    "\n",
    "VSTACK\n",
    "1. This is a special case of concatenate\n",
    "2. concatenate along axis = 0\n"
   ]
  },
  {
   "cell_type": "code",
   "execution_count": 46,
   "id": "4a6b9463",
   "metadata": {},
   "outputs": [
    {
     "name": "stdout",
     "output_type": "stream",
     "text": [
      "-----------------------Concatenate------------------------\n",
      "\n",
      "1 Dimension arrays\n",
      "\n",
      "first array is [ 1  2  3  4  5  6  7  8  9 10],\n",
      "second array is [11 12 13 14 15 16 17 18 19 20]\n",
      "concatenated on axis 0, array is [ 1  2  3  4  5  6  7  8  9 10 11 12 13 14 15 16 17 18 19 20]\n",
      "\n",
      "\n",
      "2 Dimenstion arrays\n",
      "\n",
      "first array is \n",
      "[[ 1  2  3  4  5]\n",
      " [ 6  7  8  9 10]],\n",
      "second array is \n",
      "[[11 12 13 14 15]\n",
      " [16 17 18 19 20]]\n",
      "concatenated on axis 0 array is \n",
      " [[ 1  2  3  4  5]\n",
      " [ 6  7  8  9 10]\n",
      " [11 12 13 14 15]\n",
      " [16 17 18 19 20]]\n",
      "\n",
      "-----------------------Stack------------------------\n",
      "\n",
      "stacked array is \n",
      "[[ 1  2  3  4  5  6  7  8  9 10]\n",
      " [11 12 13 14 15 16 17 18 19 20]]\n"
     ]
    }
   ],
   "source": [
    "# Concatenate\n",
    "print(\"-----------------------Concatenate------------------------\\n\")\n",
    "j_arr_1 = np.arange(1,11)\n",
    "j_arr_2 = np.arange(11,21)\n",
    "\n",
    "print(\"1 Dimension arrays\\n\")\n",
    "print(f'first array is {j_arr_1},\\nsecond array is {j_arr_2}')\n",
    "\n",
    "concat_arr = np.concatenate((j_arr_1,j_arr_2))\n",
    "print(f'concatenated on axis 0, array is {concat_arr}\\n')\n",
    "\n",
    "print(\"\\n2 Dimenstion arrays\\n\")\n",
    "j_2d_arr_1 = np.arange(1,11).reshape(2,5)\n",
    "j_2d_arr_2 = np.arange(11,21).reshape(2,5)\n",
    "print(f'first array is \\n{j_2d_arr_1},\\nsecond array is \\n{j_2d_arr_2}')\n",
    "\n",
    "concat_2d_arr = np.concatenate((j_2d_arr_1,j_2d_arr_2), axis = 0)\n",
    "print(f'concatenated on axis 0 array is \\n {concat_2d_arr}')\n",
    "\n",
    "# Stack\n",
    "print(\"\\n-----------------------Stack------------------------\\n\")\n",
    "# This would create a new dimentions\n",
    "st_concat_arr = np.stack((j_arr_1, j_arr_2))\n",
    "print(f'stacked array is \\n{st_concat_arr}')\n"
   ]
  },
  {
   "cell_type": "markdown",
   "id": "0b452199",
   "metadata": {},
   "source": [
    "---\n",
    "\n",
    "### Splitting Arrays\n",
    "\n",
    "**Important** - The resultaing split arrays should have the same shape, else splitting would give an error\n",
    "\n",
    "SPLIT\n",
    "\n",
    "ARRAY_SPLIT\n",
    "\n",
    "HSPLIT\n",
    "\n",
    "VSPLIT"
   ]
  },
  {
   "cell_type": "code",
   "execution_count": 49,
   "id": "3354d567",
   "metadata": {},
   "outputs": [
    {
     "name": "stdout",
     "output_type": "stream",
     "text": [
      "[ 2  6 10]\n"
     ]
    }
   ],
   "source": [
    "test_arr = np.array([2,4,6,8,10])\n",
    "print(test_arr[::2])"
   ]
  }
 ],
 "metadata": {
  "kernelspec": {
   "display_name": "Python 3",
   "language": "python",
   "name": "python3"
  },
  "language_info": {
   "codemirror_mode": {
    "name": "ipython",
    "version": 3
   },
   "file_extension": ".py",
   "mimetype": "text/x-python",
   "name": "python",
   "nbconvert_exporter": "python",
   "pygments_lexer": "ipython3",
   "version": "3.12.10"
  }
 },
 "nbformat": 4,
 "nbformat_minor": 5
}
