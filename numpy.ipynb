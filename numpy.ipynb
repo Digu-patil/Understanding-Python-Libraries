{
 "cells": [
  {
   "cell_type": "code",
   "execution_count": 2,
   "id": "6ee62db2",
   "metadata": {},
   "outputs": [],
   "source": [
    "import numpy as np"
   ]
  },
  {
   "cell_type": "markdown",
   "id": "d12c00b5",
   "metadata": {},
   "source": [
    "### Numerical Python (NumPy)\n",
    "\n",
    "1. Designed for ***faster numerical opeartions*** leveraging C++\n",
    "2. Most of the udnerlying function use CPython API to use C++ code in python\n",
    "3. The main core of NumPy is ***ndarray()*** - These are similar to python lists but are not as dynamic\n",
    "    - We cannot change the size of an array.\n",
    "    - Once a array is defiened we cannot append data to it, although we can udpate data in a array\n",
    "    - Numpy array can have the same datatype\n",
    "    - If the array elements have multiple datatypes, numpy will upcast the datatypes."
   ]
  },
  {
   "cell_type": "code",
   "execution_count": 5,
   "id": "efab3e72",
   "metadata": {},
   "outputs": [
    {
     "name": "stdout",
     "output_type": "stream",
     "text": [
      "[1, 'two', 3.0]\n",
      "[1, 'two', 3.0, 4]\n",
      "1 is of type <class 'int'>\n",
      "two is of type <class 'str'>\n",
      "3.0 is of type <class 'float'>\n",
      "4 is of type <class 'int'>\n"
     ]
    }
   ],
   "source": [
    "list1 = [1,\"two\",3.0]\n",
    "print(list1)\n",
    "\n",
    "# Appending data to a list\n",
    "list1.append(4)\n",
    "print(list1)\n",
    "\n",
    "# Also note that each element has a different datatype\n",
    "print(f'{list1[0]} is of type {type(list1[0])}\\n{list1[1]} is of type {type(list1[1])}\\n{list1[2]} is of type {type(list1[2])}\\n{list1[3]} is of type {type(list1[3])}')"
   ]
  },
  {
   "cell_type": "markdown",
   "id": "188dbede",
   "metadata": {},
   "source": [
    "---\n",
    "### Upcasting and Contiguous memory block\n",
    "\n",
    "1. All the array elements are upcasted to the same data type (string in the below case)\n",
    "2. Storing of the array elements happens in a contiguous block of memory unlike list where each element is stored seperately in the memory"
   ]
  },
  {
   "cell_type": "code",
   "execution_count": 35,
   "id": "13a822dd",
   "metadata": {},
   "outputs": [
    {
     "name": "stdout",
     "output_type": "stream",
     "text": [
      "\n",
      "Size fo the array is 3,\n",
      "Array is of type <class 'numpy.ndarray'>\n",
      "\n",
      "1 is of type <class 'numpy.str_'> and is stored at <memory at 0x000001C7FFA4D080>\n",
      "two is of type <class 'numpy.str_'> and is stored at <memory at 0x000001C7FFA4D080>\n",
      "3 is of type <class 'numpy.str_'> and is stored at <memory at 0x000001C7FFA4D080>\n"
     ]
    }
   ],
   "source": [
    "arr1 = np.array([1,\"two\",3])\n",
    "\n",
    "# Now the size of the aray is defined, we cannot add more element to arr1, but we can update the existing elements to it\n",
    "arr1_details = f\"\"\"\n",
    "Size fo the array is {arr1.size},\n",
    "Array is of type {type(arr1)}\n",
    "\"\"\"\n",
    "print(arr1_details)\n",
    "\n",
    "for i in range(0,len(arr1)):\n",
    "    print(f\"{arr1[i]} is of type {type(arr1[i])} and is stored at {arr1[i].data}\")"
   ]
  },
  {
   "cell_type": "markdown",
   "id": "4d76afe1",
   "metadata": {},
   "source": [
    "---\n",
    "### Differnet ways to create numpy array\n",
    "1. Converting an exisitng list/tuple to np array\n",
    "2. Create array with constant values (zeros, ones, or any other desired value)\n",
    "3. Using inbuit function \n",
    "    a. arange() - similar to range funciton in python\n",
    "    b. linspace() - helps generate floating point numbers within the given range\n",
    "    Note - by default linspace will give you 50 values, but we can limit it with the last paramater"
   ]
  },
  {
   "cell_type": "code",
   "execution_count": 47,
   "id": "717c1807",
   "metadata": {},
   "outputs": [
    {
     "name": "stdout",
     "output_type": "stream",
     "text": [
      "list2 is of type <class 'list'> and has the following elements [1, 2, 3, 4, 5, 6, 7]\n",
      "arr2 is of type <class 'numpy.ndarray'> and has the following elements [1 2 3 4 5 6 7]\n",
      "One dimensional array [0. 0. 0. 0. 0.]\n",
      "Two dimensional array [[0. 0.]\n",
      " [0. 0.]\n",
      " [0. 0.]\n",
      " [0. 0.]\n",
      " [0. 0.]]\n",
      "Three dimensional arry of 1s [[[1. 1.]\n",
      "  [1. 1.]]\n",
      "\n",
      " [[1. 1.]\n",
      "  [1. 1.]]]\n",
      "[6. 6. 6. 6. 6. 6. 6. 6. 6. 6.]\n",
      "[10 10 10 10 10]\n",
      "\n",
      "Using the arange function we get = \n",
      "[0 1 2 3],\n",
      "Using the linspace fucntion we get = \n",
      "[4.   4.25 4.5  4.75 5.  ]\n",
      "\n"
     ]
    }
   ],
   "source": [
    "list2 = [1,2,3,4,5,6,7]\n",
    "print(f'list2 is of type {type(list2)} and has the following elements {list2}')\n",
    "\n",
    "# Converting an existing list/type to np array\n",
    "arr2 = np.array(list2)\n",
    "print(f'arr2 is of type {type(arr2)} and has the following elements {arr2}')\n",
    "\n",
    "\n",
    "print(f'One dimensional array {np.zeros(5)}') # array with zeros - 5 columns\n",
    "print(f'Two dimensional array {np.zeros([5,2])}') # array with zeros - 5  columns and 2 rows\n",
    "print(f'Three dimensional arry of 1s {np.ones([2,2,2])}') # 3 dim array of 1s\n",
    "\n",
    "\"\"\" Array with constant values aprat from 1 and 0\n",
    "There are two ways to do it\n",
    "1. Create an empty array then fill the desired number\n",
    "2. use the full function instead\n",
    "\"\"\"\n",
    "const_val_arr = np.empty(10, dtype = float)\n",
    "const_val_arr.fill(6)\n",
    "print(const_val_arr)\n",
    "\n",
    "print(np.full(5,10)) # Directly creates a array with 5 elements with 10 as the constant value\n",
    "\n",
    "print(f\"\"\"\n",
    "Using the arange function we get = \n",
    "{np.arange(4)},\n",
    "Using the linspace fucntion we get = \n",
    "{np.linspace(4,5,5)}\n",
    "\"\"\")\n"
   ]
  },
  {
   "cell_type": "markdown",
   "id": "83ae4768",
   "metadata": {},
   "source": [
    "---\n",
    "### Attributes of an array\n",
    "\n",
    "1. type - .dtype\n",
    "2. dimension - .ndim\n",
    "3. shape - .shape\n",
    "4. size - .size (signifies number of elements in each dimension)"
   ]
  },
  {
   "cell_type": "code",
   "execution_count": 64,
   "id": "1263de45",
   "metadata": {},
   "outputs": [
    {
     "name": "stdout",
     "output_type": "stream",
     "text": [
      "\n",
      "[1 2 3 4 5 6] is of 1 dimension, has (6,) shape, it's size is 6 and is of type int32\n",
      "[[1 2 3]\n",
      " [4 5 6]] is of 2 dimension, has (2, 3) shape, it's size is 6 and is of type int64\n",
      "[[[1 2]\n",
      "  [3 4]]\n",
      "\n",
      " [[5 6]\n",
      "  [0 0]]] is of 3 dimension, has (2, 2, 2) shape, it's size is 8 and is of type int64\n",
      "\n"
     ]
    }
   ],
   "source": [
    "# let's try to determine the attributes of arraya\n",
    "\n",
    "one_dim = np.array([1,2,3,4,5,6],dtype = np.int32) # default type would be int64\n",
    "two_dim = np.array([[1,2,3],[4,5,6]])\n",
    "three_dim = np.array([[[1,2],[3,4]],[[5,6],[0,0]]])\n",
    "\n",
    "msg1 = f'''\n",
    "{one_dim} is of {one_dim.ndim} dimension, has {one_dim.shape} shape, it's size is {one_dim.size} and is of type {one_dim.dtype}\n",
    "{two_dim} is of {two_dim.ndim} dimension, has {two_dim.shape} shape, it's size is {two_dim.size} and is of type {two_dim.dtype}\n",
    "{three_dim} is of {three_dim.ndim} dimension, has {three_dim.shape} shape, it's size is {three_dim.size} and is of type {three_dim.dtype}\n",
    "'''\n",
    "\n",
    "print(msg1)"
   ]
  },
  {
   "cell_type": "markdown",
   "id": "2801a199",
   "metadata": {},
   "source": [
    "---\n",
    "### Manipulating Arrays\n",
    "\n",
    "1. Adding = .append\n",
    "2. Removing = .remove \n",
    "3. Sorting = .sort\n",
    "4. Updating = "
   ]
  },
  {
   "cell_type": "code",
   "execution_count": null,
   "id": "a5cddc8b",
   "metadata": {},
   "outputs": [
    {
     "name": "stdout",
     "output_type": "stream",
     "text": [
      "This [1 2 3 4] is the original array at location 1957952086880\n",
      "This [1 2 3 4 5] has the following python memeory view 1957885800096\n",
      "This [1 2 3 4 5] has the following python memeory view 1957885456624\n",
      "[1 2 3 4] was created at memory location 1957952089504\n",
      "{'data': (1957885456624, False), 'strides': None, 'descr': [('', '<i8')], 'typestr': '<i8', 'shape': (5,), 'version': 3}\n"
     ]
    }
   ],
   "source": [
    "\"\"\"\n",
    "Note -\n",
    "Appending / Inserting an element in a Numpy array creates a new array at a different memeory location\n",
    "\"\"\"\n",
    "og_arr = np.array([1,2,3,4])\n",
    "\n",
    "print(f'This {og_arr} is the original array at location {og_arr.__array_interface__['data'][0]}')\n",
    "\n",
    "insert_arr = np.insert(og_arr,4,5) # this inserts 20 at location 3\n",
    "print(f'This {insert_arr} has the following python memeory view {insert_arr.__array_interface__['data'][0]}')\n",
    "\n",
    "append_arr = np.append(og_arr,5) # this appends 5 at the end of the array\n",
    "print(f'This {append_arr} has the following python memeory view {append_arr.__array_interface__['data'][0]}')\n",
    "\n",
    "# Deleting an element from an array\n",
    "del_arr = np.delete(append_arr,4)\n",
    "print(f'{del_arr} was created at memory location {del_arr.__array_interface__['data'][0]}')\n",
    "\n",
    "\n",
    "\n",
    "\n"
   ]
  },
  {
   "cell_type": "markdown",
   "id": "da937c15",
   "metadata": {},
   "source": [
    "---\n",
    "### Copies and Views in Numpy\n",
    "\n",
    "COPY - create these when you need isolation\n",
    "1. This creates a deep copy\n",
    "2. New array object is created at a <u>**different memory location**</u>\n",
    "3. Changes in original array do not affect copied array\n",
    "2. Views - Same location is being referenced - this is a copy created using assignment, any changes to the original and the copy reflect on each other\n",
    "\n",
    "VIEW - create these when memory matters and you want to sclice and dice the data keeping the same structure\n",
    "1. Creates a new array object but has the <u>**same memory location**</u>\n",
    "2. Modifying one changes the other.\n",
    "3. The only change is a new array object is created\n",
    "\n",
    ".base - return None when an array is a copy\n",
    "\n",
    "NOTE -\n",
    "cp_arr = og_arr, This is just assignment, i.e., we are just givin og_arr a different alias an nothing will happend here cp_arr will be same as og_arr in all aspects,\n",
    "there just would be a name difference \n",
    "\n"
   ]
  },
  {
   "cell_type": "code",
   "execution_count": null,
   "id": "e9965ccb",
   "metadata": {},
   "outputs": [
    {
     "name": "stdout",
     "output_type": "stream",
     "text": [
      "Original array contains [1 2 3 4] and is located at 1451917990656\n",
      "Copied array contains [1 2 3 4] and is located at 1451917991648\n",
      "View array contains [1 2 3 4] and is located at 1451917990656\n",
      "view_arr = [67  2  3  4], original_arr = [67  2  3  4]\n",
      "copy_arr = None, view_arr = [67  2  3  4]\n"
     ]
    }
   ],
   "source": [
    "original_arr = np.array([1,2,3,4])\n",
    "\n",
    "print(f'Original array contains {original_arr} and is located at {original_arr.__array_interface__['data'][0]}')\n",
    "\n",
    "copy_arr = original_arr.copy()\n",
    "# Check 1 - Memory Location = Different\n",
    "print(f'Copied array contains {copy_arr} and is located at {copy_arr.__array_interface__['data'][0]}')\n",
    "# Check 2 - Element Update = Creates a deep copy, changes are not passed on \n",
    "copy_arr[0] = 67 \n",
    "\n",
    "# Creating a view of the original array\n",
    "view_arr = original_arr.view()\n",
    "# Check 1 - Memory Location = Same\n",
    "print(f'View array contains {view_arr} and is located at {view_arr.__array_interface__['data'][0]}')\n",
    "# Check 2 - Element Update = chagtes are passed on\n",
    "view_arr[0] = 67\n",
    "print(f'view_arr = {view_arr}, original_arr = {original_arr}')\n",
    "\n",
    "# Final Check - Copy/View\n",
    "print(f'copy_arr = {copy_arr.base}, view_arr = {view_arr.base}') # copyu_arr return None as its a deep copy and own the data\n",
    "\n"
   ]
  },
  {
   "cell_type": "markdown",
   "id": "7158f50c",
   "metadata": {},
   "source": [
    "---\n",
    "\n",
    "### Reshaping Arrays\n",
    "\n",
    "RESHAPE\n",
    "1. Creates a reshaped **VIEW** of the array\n",
    "2. All rules of views apply to reshape as well\n",
    "\n",
    "FLATTEN\n",
    "\n",
    "REOLVE\n",
    "\n"
   ]
  },
  {
   "cell_type": "code",
   "execution_count": null,
   "id": "d00a46ea",
   "metadata": {},
   "outputs": [
    {
     "name": "stdout",
     "output_type": "stream",
     "text": [
      "[ 1  2  3  4  5  6  7  8  9 10 11 12] has 1 dimension\n",
      "1451868294816\n",
      "[[ 1  2  3  4]\n",
      " [ 5  6  7  8]\n",
      " [ 9 10 11 12]] has 2 dimension\n",
      "1451868294816\n",
      "[ 1  2  3  4 67  6  7  8  9 10 11 12] [[ 1  2  3  4]\n",
      " [67  6  7  8]\n",
      " [ 9 10 11 12]]\n",
      "-----------------------------\n",
      "Original array was \n",
      " [[0.90572979 0.5687588  0.45090711 0.44984114]\n",
      " [0.69794183 0.4636879  0.69272279 0.27854741]\n",
      " [0.4608303  0.07324363 0.62227784 0.23602579]],\n",
      "\n",
      " Flatenned array is \n",
      "[0.90572979 0.5687588  0.45090711 0.44984114 0.69794183 0.4636879\n",
      " 0.69272279 0.27854741 0.4608303  0.07324363 0.62227784 0.23602579]\n"
     ]
    }
   ],
   "source": [
    "arr3 = np.arange(1,13) # this creates a one dim array with 12 elements\n",
    "print(f'{arr3} has {arr3.ndim} dimension')\n",
    "print(arr3.__array_interface__['data'][0])\n",
    "\n",
    "two_dim_arr = np.reshape(arr3, (3,4))\n",
    "print(f'{two_dim_arr} has {two_dim_arr.ndim} dimension')\n",
    "print(two_dim_arr.__array_interface__['data'][0])\n",
    "\n",
    "two_dim_arr[1][0]= 67\n",
    "\n",
    "print(arr3, two_dim_arr) # This confirms that reshape creates a view and changes to view also changes the original\n",
    "print(\"-----------------------------\")\n",
    "\n",
    "\"\"\"\n",
    "Flatenning the arrays\n",
    "\"\"\"\n",
    "flat_test = np.random.rand(3,4)\n",
    "\n",
    "flat_arr = np.reshape(flat_test,-1) # move one dim earlier\n",
    "\n",
    "print(f'Original array was \\n {flat_test},\\n\\n Flatenned array is \\n{flat_arr}')\n"
   ]
  },
  {
   "cell_type": "code",
   "execution_count": null,
   "id": "c6db4cc3",
   "metadata": {},
   "outputs": [],
   "source": []
  }
 ],
 "metadata": {
  "kernelspec": {
   "display_name": "Python 3",
   "language": "python",
   "name": "python3"
  },
  "language_info": {
   "codemirror_mode": {
    "name": "ipython",
    "version": 3
   },
   "file_extension": ".py",
   "mimetype": "text/x-python",
   "name": "python",
   "nbconvert_exporter": "python",
   "pygments_lexer": "ipython3",
   "version": "3.12.10"
  }
 },
 "nbformat": 4,
 "nbformat_minor": 5
}
