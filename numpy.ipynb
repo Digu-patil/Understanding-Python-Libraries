{
 "cells": [
  {
<<<<<<< HEAD
   "cell_type": "code",
   "execution_count": 2,
   "id": "6ee62db2",
   "metadata": {},
   "outputs": [],
   "source": [
    "import numpy as np"
=======
   "cell_type": "markdown",
   "id": "b9ba1ac4",
   "metadata": {},
   "source": [
    "# Basics"
>>>>>>> 775d4e6c1aa5f88d6419ede2b23503feb5be161b
   ]
  },
  {
   "cell_type": "markdown",
<<<<<<< HEAD
   "id": "d12c00b5",
   "metadata": {},
   "source": [
    "### Numerical Python (NumPy)\n",
    "\n",
    "1. Designed for ***faster numerical opeartions*** leveraging C++\n",
    "2. Most of the udnerlying function use CPython API to use C++ code in python\n",
    "3. The main core of NumPy is ***ndarray()*** - These are similar to python lists but are not as dynamic\n",
    "    - We cannot change the size of an array.\n",
    "    - Once a array is defiened we cannot append data to it, although we can udpate data in a array\n",
    "    - Numpy array can have the same datatype\n",
    "    - If the array elements have multiple datatypes, numpy will upcast the datatypes."
=======
   "id": "bfd10063",
   "metadata": {},
   "source": [
    "Let's consdier the following Python List\n",
    "\n",
    "There are a few points that we should note here\n",
    "1. the list has differnt datatypes\n",
    "2. each element 1,two and 3.0 is a full fledged python object and has it's own information\n",
    "    a. Type information\n",
    "    b. Reference count\n",
    "    c. The value itself\n",
    "3. The list just stores the reference to these objects\n",
    "4. The main point to note here is that the memory is scattered and it's inefficient for numberic operations"
>>>>>>> 775d4e6c1aa5f88d6419ede2b23503feb5be161b
   ]
  },
  {
   "cell_type": "code",
<<<<<<< HEAD
   "execution_count": 5,
   "id": "efab3e72",
=======
   "execution_count": 30,
   "id": "32edba0a",
>>>>>>> 775d4e6c1aa5f88d6419ede2b23503feb5be161b
   "metadata": {},
   "outputs": [
    {
     "name": "stdout",
     "output_type": "stream",
     "text": [
<<<<<<< HEAD
      "[1, 'two', 3.0]\n",
      "[1, 'two', 3.0, 4]\n",
      "1 is of type <class 'int'>\n",
      "two is of type <class 'str'>\n",
      "3.0 is of type <class 'float'>\n",
      "4 is of type <class 'int'>\n"
=======
      "1 is of type <class 'int'> and is located at 140705101513640\n",
      "two is of type <class 'str'> and is located at 2589548991648\n",
      "3.0 is of type <class 'float'> and is located at 2589698837648\n"
>>>>>>> 775d4e6c1aa5f88d6419ede2b23503feb5be161b
     ]
    }
   ],
   "source": [
<<<<<<< HEAD
    "list1 = [1,\"two\",3.0]\n",
    "print(list1)\n",
    "\n",
    "# Appending data to a list\n",
    "list1.append(4)\n",
    "print(list1)\n",
    "\n",
    "# Also note that each element has a different datatype\n",
    "print(f'{list1[0]} is of type {type(list1[0])}\\n{list1[1]} is of type {type(list1[1])}\\n{list1[2]} is of type {type(list1[2])}\\n{list1[3]} is of type {type(list1[3])}')"
=======
    "py_list = [1,\"two\", 3.0]\n",
    "for i in py_list:\n",
    "    print(f'{i} is of type {type(i)} and is located at {id(i)}')"
>>>>>>> 775d4e6c1aa5f88d6419ede2b23503feb5be161b
   ]
  },
  {
   "cell_type": "markdown",
<<<<<<< HEAD
   "id": "188dbede",
   "metadata": {},
   "source": [
    "---\n",
    "### Upcasting and Contiguous memory block\n",
    "\n",
    "1. All the array elements are upcasted to the same data type (string in the below case)\n",
    "2. Storing of the array elements happens in a contiguous block of memory unlike list where each element is stored seperately in the memory"
=======
   "id": "c7d6ef56",
   "metadata": {},
   "source": [
    "This is where numpy makes a great difference\n",
    "1. It allows only same data type elements\n",
    "2. The array only needs raw data, and the shape of the number of rows and columns\n",
    "\n",
    "Few more points to note are\n",
    "1. numpy \"upcasts\" the entire array -> in this case it upcasted the entire array to string\n",
    "2. id() gives the memoery address for regular python object. "
   ]
  },
  {
   "cell_type": "code",
   "execution_count": 31,
   "id": "3d99376c",
   "metadata": {},
   "outputs": [
    {
     "name": "stdout",
     "output_type": "stream",
     "text": [
      "1 is of type <class 'numpy.str_'> and is located at <memory at 0x0000025AEFAA1080>\n",
      "two is of type <class 'numpy.str_'> and is located at <memory at 0x0000025AEFAA1BC0>\n",
      "3.0 is of type <class 'numpy.str_'> and is located at <memory at 0x0000025AEFAA1BC0>\n"
     ]
    }
   ],
   "source": [
    "import numpy as np\n",
    "\n",
    "numpy_array = np.array(py_list)\n",
    "for i in numpy_array:\n",
    "    print(f'{i} is of type {type(i)} and is located at {i.data}')"
   ]
  },
  {
   "cell_type": "markdown",
   "id": "7f5f6a24",
   "metadata": {},
   "source": [
    "# List V/S Array"
   ]
  },
  {
   "cell_type": "markdown",
   "id": "835f0b55",
   "metadata": {},
   "source": [
    "1. Once we define the size of a numpy array we cannot modify it, unlike we can append on list\n",
    "2. Numpy array are faster as they are stored as a contiguous blocks of memory\n",
    "3. They are 6 times more memory efficient than reqular lists"
>>>>>>> 775d4e6c1aa5f88d6419ede2b23503feb5be161b
   ]
  },
  {
   "cell_type": "code",
   "execution_count": 35,
<<<<<<< HEAD
   "id": "13a822dd",
=======
   "id": "48fe50e2",
>>>>>>> 775d4e6c1aa5f88d6419ede2b23503feb5be161b
   "metadata": {},
   "outputs": [
    {
     "name": "stdout",
     "output_type": "stream",
     "text": [
<<<<<<< HEAD
      "\n",
      "Size fo the array is 3,\n",
      "Array is of type <class 'numpy.ndarray'>\n",
      "\n",
      "1 is of type <class 'numpy.str_'> and is stored at <memory at 0x000001C7FFA4D080>\n",
      "two is of type <class 'numpy.str_'> and is stored at <memory at 0x000001C7FFA4D080>\n",
      "3 is of type <class 'numpy.str_'> and is stored at <memory at 0x000001C7FFA4D080>\n"
=======
      "py_list_1000 is of type <class 'list'> and it has 990000 elements and the size of the list is 8448728 bytes\n",
      "py_list_1000 is of type <class 'numpy.ndarray'> and it has 990000 elements and the size of the list is 7920112 bytes\n",
      "py_list_1000 is of type <class 'numpy.ndarray'> and it has 990000 elements and the size of the list is 7920000 bytes\n",
      "1.35 ms ± 26.6 μs per loop (mean ± std. dev. of 7 runs, 1,000 loops each)\n",
      "80.4 ms ± 2.66 ms per loop (mean ± std. dev. of 7 runs, 10 loops each)\n"
>>>>>>> 775d4e6c1aa5f88d6419ede2b23503feb5be161b
     ]
    }
   ],
   "source": [
<<<<<<< HEAD
    "arr1 = np.array([1,\"two\",3])\n",
    "\n",
    "# Now the size of the aray is defined, we cannot add more element to arr1, but we can update the existing elements to it\n",
    "arr1_details = f\"\"\"\n",
    "Size fo the array is {arr1.size},\n",
    "Array is of type {type(arr1)}\n",
    "\"\"\"\n",
    "print(arr1_details)\n",
    "\n",
    "for i in range(0,len(arr1)):\n",
    "    print(f\"{arr1[i]} is of type {type(arr1[i])} and is stored at {arr1[i].data}\")"
=======
    "import sys\n",
    "import timeit\n",
    "py_list_1000 = []\n",
    "append_operation = [py_list_1000.append(float(i)) for i in range(10000,1000000)]\n",
    "\n",
    "print(f\"py_list_1000 is of type {type(py_list_1000)} and it has {len(py_list_1000)} elements and the size of the list is {sys.getsizeof(py_list_1000)} bytes\")\n",
    "\n",
    "numpy_array_1000 = np.array(py_list_1000)\n",
    "print(f\"py_list_1000 is of type {type(numpy_array_1000)} and it has {len(numpy_array_1000)} elements and the size of the list is {sys.getsizeof(numpy_array_1000)} bytes\")\n",
    "\n",
    "\"\"\"\n",
    "array.size v/s len()\n",
    "array.nbytes v/s sys.getsizeof()\n",
    "\n",
    "sys.getsizeof() this retuns the size of the python object, it has all the metadata\n",
    "while nbytes only does the itemsize * elements in this case 8 bytes for int * 1000 elements\n",
    "\"\"\"\n",
    "print(f\"py_list_1000 is of type {type(numpy_array_1000)} and it has {numpy_array_1000.size} elements and the size of the list is {numpy_array_1000.nbytes} bytes\")\n",
    "\n",
    "\"\"\"\n",
    "Lets do some math operation on lists and arrays\n",
    "\"\"\"\n",
    "%timeit numpy_array_1000**2\n",
    "%timeit [py_list_1000[i]**2 for i in range(len(py_list_1000))]\n"
>>>>>>> 775d4e6c1aa5f88d6419ede2b23503feb5be161b
   ]
  },
  {
   "cell_type": "markdown",
<<<<<<< HEAD
   "id": "4d76afe1",
   "metadata": {},
   "source": [
    "---\n",
    "### Differnet ways to create numpy array\n",
    "1. Converting an exisitng list/tuple to np array\n",
    "2. Create array with constant values (zeros, ones, or any other desired value)\n",
    "3. Using inbuit function \n",
    "    a. arange() - similar to range funciton in python\n",
    "    b. linspace() - helps generate floating point numbers within the given range\n",
    "    Note - by default linspace will give you 50 values, but we can limit it with the last paramater"
=======
   "id": "88e6ea4a",
   "metadata": {},
   "source": [
    "# N-Dimensional Arrays\n",
    "1. These are core to the numpy library"
>>>>>>> 775d4e6c1aa5f88d6419ede2b23503feb5be161b
   ]
  },
  {
   "cell_type": "code",
<<<<<<< HEAD
   "execution_count": 47,
   "id": "717c1807",
=======
   "execution_count": 55,
   "id": "90e7a2b7",
>>>>>>> 775d4e6c1aa5f88d6419ede2b23503feb5be161b
   "metadata": {},
   "outputs": [
    {
     "name": "stdout",
     "output_type": "stream",
     "text": [
<<<<<<< HEAD
      "list2 is of type <class 'list'> and has the following elements [1, 2, 3, 4, 5, 6, 7]\n",
      "arr2 is of type <class 'numpy.ndarray'> and has the following elements [1 2 3 4 5 6 7]\n",
      "One dimensional array [0. 0. 0. 0. 0.]\n",
      "Two dimensional array [[0. 0.]\n",
      " [0. 0.]\n",
      " [0. 0.]\n",
      " [0. 0.]\n",
      " [0. 0.]]\n",
      "Three dimensional arry of 1s [[[1. 1.]\n",
      "  [1. 1.]]\n",
      "\n",
      " [[1. 1.]\n",
      "  [1. 1.]]]\n",
      "[6. 6. 6. 6. 6. 6. 6. 6. 6. 6.]\n",
      "[10 10 10 10 10]\n",
      "\n",
      "Using the arange function we get = \n",
      "[0 1 2 3],\n",
      "Using the linspace fucntion we get = \n",
      "[4.   4.25 4.5  4.75 5.  ]\n",
      "\n"
=======
      "array([1, 2, 3, 4, 5, 6, 7]) is of 1 dimensions\n",
      "array([[1, 2, 3],\n",
      "       [4, 5, 6]]) is of 2 dimensions\n",
      "array([[[1, 2],\n",
      "        [3, 4]],\n",
      "\n",
      "       [[5, 6],\n",
      "        [7, 8]]]) is of 3 dimensions\n"
>>>>>>> 775d4e6c1aa5f88d6419ede2b23503feb5be161b
     ]
    }
   ],
   "source": [
<<<<<<< HEAD
    "list2 = [1,2,3,4,5,6,7]\n",
    "print(f'list2 is of type {type(list2)} and has the following elements {list2}')\n",
    "\n",
    "# Converting an existing list/type to np array\n",
    "arr2 = np.array(list2)\n",
    "print(f'arr2 is of type {type(arr2)} and has the following elements {arr2}')\n",
    "\n",
    "\n",
    "print(f'One dimensional array {np.zeros(5)}') # array with zeros - 5 columns\n",
    "print(f'Two dimensional array {np.zeros([5,2])}') # array with zeros - 5  columns and 2 rows\n",
    "print(f'Three dimensional arry of 1s {np.ones([2,2,2])}') # 3 dim array of 1s\n",
    "\n",
    "\"\"\" Array with constant values aprat from 1 and 0\n",
    "There are two ways to do it\n",
    "1. Create an empty array then fill the desired number\n",
    "2. use the full function instead\n",
    "\"\"\"\n",
    "const_val_arr = np.empty(10, dtype = float)\n",
    "const_val_arr.fill(6)\n",
    "print(const_val_arr)\n",
    "\n",
    "print(np.full(5,10)) # Directly creates a array with 5 elements with 10 as the constant value\n",
    "\n",
    "print(f\"\"\"\n",
    "Using the arange function we get = \n",
    "{np.arange(4)},\n",
    "Using the linspace fucntion we get = \n",
    "{np.linspace(4,5,5)}\n",
    "\"\"\")\n"
   ]
  },
  {
   "cell_type": "markdown",
   "id": "83ae4768",
   "metadata": {},
   "source": [
    "---\n",
    "### Attributes of an array\n",
    "\n",
    "1. type - .dtype\n",
    "2. dimension - .ndim\n",
    "3. shape - .shape\n",
    "4. size - .size (signifies number of elements in each dimension)"
=======
    "vector = np.array([1,2,3,4,5,6,7]) #One Dimensional Array\n",
    "matrix = np.array([[1,2,3],[4,5,6]]) #Two Dimensional Array\n",
    "tensor = np.array([[[1,2],[3,4]],[[5,6],[7,8]]]) #Three Dimensional Array\n",
    "\n",
    "print(f'{repr(vector)} is of {vector.ndim} dimensions')\n",
    "print(f'{repr(matrix)} is of {matrix.ndim} dimensions')\n",
    "print(f'{repr(tensor)} is of {tensor.ndim} dimensions')"
>>>>>>> 775d4e6c1aa5f88d6419ede2b23503feb5be161b
   ]
  },
  {
   "cell_type": "code",
<<<<<<< HEAD
   "execution_count": 64,
   "id": "1263de45",
=======
   "execution_count": 57,
   "id": "f19353ff",
>>>>>>> 775d4e6c1aa5f88d6419ede2b23503feb5be161b
   "metadata": {},
   "outputs": [
    {
     "name": "stdout",
     "output_type": "stream",
     "text": [
<<<<<<< HEAD
      "\n",
      "[1 2 3 4 5 6] is of 1 dimension, has (6,) shape, it's size is 6 and is of type int32\n",
      "[[1 2 3]\n",
      " [4 5 6]] is of 2 dimension, has (2, 3) shape, it's size is 6 and is of type int64\n",
      "[[[1 2]\n",
      "  [3 4]]\n",
      "\n",
      " [[5 6]\n",
      "  [0 0]]] is of 3 dimension, has (2, 2, 2) shape, it's size is 8 and is of type int64\n",
      "\n"
=======
      "2\n",
      "1 6\n",
      "1 6\n",
      "1 8\n"
>>>>>>> 775d4e6c1aa5f88d6419ede2b23503feb5be161b
     ]
    }
   ],
   "source": [
<<<<<<< HEAD
    "# let's try to determine the attributes of arraya\n",
    "\n",
    "one_dim = np.array([1,2,3,4,5,6],dtype = np.int32) # default type would be int64\n",
    "two_dim = np.array([[1,2,3],[4,5,6]])\n",
    "three_dim = np.array([[[1,2],[3,4]],[[5,6],[0,0]]])\n",
    "\n",
    "msg1 = f'''\n",
    "{one_dim} is of {one_dim.ndim} dimension, has {one_dim.shape} shape, it's size is {one_dim.size} and is of type {one_dim.dtype}\n",
    "{two_dim} is of {two_dim.ndim} dimension, has {two_dim.shape} shape, it's size is {two_dim.size} and is of type {two_dim.dtype}\n",
    "{three_dim} is of {three_dim.ndim} dimension, has {three_dim.shape} shape, it's size is {three_dim.size} and is of type {three_dim.dtype}\n",
    "'''\n",
    "\n",
    "print(msg1)"
=======
    "\"\"\"\n",
    "Let's ty to do a few things\n",
    "1. Vector = Get 2nd element of the vector\n",
    "2. Matrix = Get 1st element of the 1st array and the last element of the 2nd array \n",
    "3. Tensor = Get the \n",
    "\"\"\"\n",
    "\n",
    "print(vector[1])\n",
    "print(matrix[0][0], matrix[1][-1])\n",
    "print(matrix[0,0], matrix[1,-1])\n",
    "print(tensor[0,0,0], tensor[-1,-1,-1])"
>>>>>>> 775d4e6c1aa5f88d6419ede2b23503feb5be161b
   ]
  },
  {
   "cell_type": "markdown",
<<<<<<< HEAD
   "id": "2801a199",
   "metadata": {},
   "source": [
    "---\n",
    "### Manipulating Arrays\n",
    "\n",
    "1. Adding = .append\n",
    "2. Removing = .remove \n",
    "3. Sorting = .sort\n",
    "4. Updating = "
=======
   "id": "6825b6b5",
   "metadata": {},
   "source": [
    "## arange() and linspace()"
>>>>>>> 775d4e6c1aa5f88d6419ede2b23503feb5be161b
   ]
  },
  {
   "cell_type": "code",
   "execution_count": null,
<<<<<<< HEAD
   "id": "a5cddc8b",
=======
   "id": "f3731488",
>>>>>>> 775d4e6c1aa5f88d6419ede2b23503feb5be161b
   "metadata": {},
   "outputs": [
    {
     "name": "stdout",
     "output_type": "stream",
     "text": [
<<<<<<< HEAD
      "This [1 2 3 4] is the original array at location 1957952086880\n",
      "This [1 2 3 4 5] has the following python memeory view 1957885800096\n",
      "This [1 2 3 4 5] has the following python memeory view 1957885456624\n",
      "[1 2 3 4] was created at memory location 1957952089504\n",
      "{'data': (1957885456624, False), 'strides': None, 'descr': [('', '<i8')], 'typestr': '<i8', 'shape': (5,), 'version': 3}\n"
=======
      "[0 1 2 3 4 5 6 7 8 9]\n",
      "[0 2 4 6 8]\n",
      "[1.         1.02040816 1.04081633 1.06122449 1.08163265 1.10204082\n",
      " 1.12244898 1.14285714 1.16326531 1.18367347 1.20408163 1.2244898\n",
      " 1.24489796 1.26530612 1.28571429 1.30612245 1.32653061 1.34693878\n",
      " 1.36734694 1.3877551  1.40816327 1.42857143 1.44897959 1.46938776\n",
      " 1.48979592 1.51020408 1.53061224 1.55102041 1.57142857 1.59183673\n",
      " 1.6122449  1.63265306 1.65306122 1.67346939 1.69387755 1.71428571\n",
      " 1.73469388 1.75510204 1.7755102  1.79591837 1.81632653 1.83673469\n",
      " 1.85714286 1.87755102 1.89795918 1.91836735 1.93877551 1.95918367\n",
      " 1.97959184 2.        ]\n",
      "[1.   1.25 1.5  1.75 2.  ]\n"
>>>>>>> 775d4e6c1aa5f88d6419ede2b23503feb5be161b
     ]
    }
   ],
   "source": [
<<<<<<< HEAD
    "\"\"\"\n",
    "Note -\n",
    "Appending / Inserting an element in a Numpy array creates a new array at a different memeory location\n",
    "\"\"\"\n",
    "og_arr = np.array([1,2,3,4])\n",
    "\n",
    "print(f'This {og_arr} is the original array at location {og_arr.__array_interface__['data'][0]}')\n",
    "\n",
    "insert_arr = np.insert(og_arr,4,5) # this inserts 20 at location 3\n",
    "print(f'This {insert_arr} has the following python memeory view {insert_arr.__array_interface__['data'][0]}')\n",
    "\n",
    "append_arr = np.append(og_arr,5) # this appends 5 at the end of the array\n",
    "print(f'This {append_arr} has the following python memeory view {append_arr.__array_interface__['data'][0]}')\n",
    "\n",
    "# Deleting an element from an array\n",
    "del_arr = np.delete(append_arr,4)\n",
    "print(f'{del_arr} was created at memory location {del_arr.__array_interface__['data'][0]}')\n",
    "\n",
    "\n",
    "\n",
    "\n"
=======
    "# Creating array using arange\n",
    "\n",
    "arr1 = np.arange(10)\n",
    "print(arr1)\n",
    "\n",
    "even_arr1 = np.arange(0,10,2)\n",
    "print(even_arr1)\n",
    "\n",
    "# Using linspace to get floating point numbers as well\n",
    "print(np.linspace(1,2)) # by default we get 50 values\n",
    "print(np.linspace(1,2,5)) # limiting the elements"
>>>>>>> 775d4e6c1aa5f88d6419ede2b23503feb5be161b
   ]
  },
  {
   "cell_type": "markdown",
<<<<<<< HEAD
   "id": "da937c15",
   "metadata": {},
   "source": [
    "---\n",
    "### Copies and Views in Numpy\n",
    "\n",
    "COPY - create these when you need isolation\n",
    "1. This creates a deep copy\n",
    "2. New array object is created at a <u>**different memory location**</u>\n",
    "3. Changes in original array do not affect copied array\n",
    "2. Views - Same location is being referenced - this is a copy created using assignment, any changes to the original and the copy reflect on each other\n",
    "\n",
    "VIEW - create these when memory matters and you want to sclice and dice the data keeping the same structure\n",
    "1. Creates a new array object but has the <u>**same memory location**</u>\n",
    "2. Modifying one changes the other.\n",
    "3. The only change is a new array object is created\n",
    "\n",
    ".base - return None when an array is a copy\n",
    "\n",
    "NOTE -\n",
    "cp_arr = og_arr, This is just assignment, i.e., we are just givin og_arr a different alias an nothing will happend here cp_arr will be same as og_arr in all aspects,\n",
    "there just would be a name difference \n",
    "\n"
=======
   "id": "db53b17f",
   "metadata": {},
   "source": [
    "## random.rand()"
>>>>>>> 775d4e6c1aa5f88d6419ede2b23503feb5be161b
   ]
  },
  {
   "cell_type": "code",
<<<<<<< HEAD
   "execution_count": null,
   "id": "e9965ccb",
=======
   "execution_count": 77,
   "id": "d1a10db7",
>>>>>>> 775d4e6c1aa5f88d6419ede2b23503feb5be161b
   "metadata": {},
   "outputs": [
    {
     "name": "stdout",
     "output_type": "stream",
     "text": [
<<<<<<< HEAD
      "Original array contains [1 2 3 4] and is located at 1451917990656\n",
      "Copied array contains [1 2 3 4] and is located at 1451917991648\n",
      "View array contains [1 2 3 4] and is located at 1451917990656\n",
      "view_arr = [67  2  3  4], original_arr = [67  2  3  4]\n",
      "copy_arr = None, view_arr = [67  2  3  4]\n"
     ]
    }
   ],
   "source": [
    "original_arr = np.array([1,2,3,4])\n",
    "\n",
    "print(f'Original array contains {original_arr} and is located at {original_arr.__array_interface__['data'][0]}')\n",
    "\n",
    "copy_arr = original_arr.copy()\n",
    "# Check 1 - Memory Location = Different\n",
    "print(f'Copied array contains {copy_arr} and is located at {copy_arr.__array_interface__['data'][0]}')\n",
    "# Check 2 - Element Update = Creates a deep copy, changes are not passed on \n",
    "copy_arr[0] = 67 \n",
    "\n",
    "# Creating a view of the original array\n",
    "view_arr = original_arr.view()\n",
    "# Check 1 - Memory Location = Same\n",
    "print(f'View array contains {view_arr} and is located at {view_arr.__array_interface__['data'][0]}')\n",
    "# Check 2 - Element Update = chagtes are passed on\n",
    "view_arr[0] = 67\n",
    "print(f'view_arr = {view_arr}, original_arr = {original_arr}')\n",
    "\n",
    "# Final Check - Copy/View\n",
    "print(f'copy_arr = {copy_arr.base}, view_arr = {view_arr.base}') # copyu_arr return None as its a deep copy and own the data\n",
    "\n"
   ]
  },
  {
   "cell_type": "markdown",
   "id": "7158f50c",
   "metadata": {},
   "source": [
    "---\n",
    "\n",
    "### Reshaping Arrays\n",
    "\n",
    "RESHAPE\n",
    "1. Creates a reshaped **VIEW** of the array\n",
    "2. All rules of views apply to reshape as well\n",
    "\n",
    "FLATTEN\n",
    "\n",
    "REOLVE\n",
    "\n"
   ]
  },
  {
   "cell_type": "code",
   "execution_count": null,
   "id": "d00a46ea",
   "metadata": {},
   "outputs": [
    {
     "name": "stdout",
     "output_type": "stream",
     "text": [
      "[ 1  2  3  4  5  6  7  8  9 10 11 12] has 1 dimension\n",
      "1451868294816\n",
      "[[ 1  2  3  4]\n",
      " [ 5  6  7  8]\n",
      " [ 9 10 11 12]] has 2 dimension\n",
      "1451868294816\n",
      "[ 1  2  3  4 67  6  7  8  9 10 11 12] [[ 1  2  3  4]\n",
      " [67  6  7  8]\n",
      " [ 9 10 11 12]]\n",
      "-----------------------------\n",
      "Original array was \n",
      " [[0.90572979 0.5687588  0.45090711 0.44984114]\n",
      " [0.69794183 0.4636879  0.69272279 0.27854741]\n",
      " [0.4608303  0.07324363 0.62227784 0.23602579]],\n",
      "\n",
      " Flatenned array is \n",
      "[0.90572979 0.5687588  0.45090711 0.44984114 0.69794183 0.4636879\n",
      " 0.69272279 0.27854741 0.4608303  0.07324363 0.62227784 0.23602579]\n"
=======
      "[0.24755926 0.12278829 0.04829644 0.24669538 0.17014655 0.0698342\n",
      " 0.92659094 0.64762601 0.03723735 0.48779578]\n",
      "[[0.8699658  0.1086665  0.69930077 0.24544428]\n",
      " [0.13144901 0.18382042 0.80152216 0.28677452]]\n",
      "[[[0.04452322 0.54667014]\n",
      "  [0.75136029 0.88903402]\n",
      "  [0.43090447 0.7629315 ]\n",
      "  [0.4569626  0.91115966]]\n",
      "\n",
      " [[0.91295003 0.62810503]\n",
      "  [0.09256024 0.76065464]\n",
      "  [0.88428353 0.9840755 ]\n",
      "  [0.05671442 0.75878193]]]\n"
>>>>>>> 775d4e6c1aa5f88d6419ede2b23503feb5be161b
     ]
    }
   ],
   "source": [
<<<<<<< HEAD
    "arr3 = np.arange(1,13) # this creates a one dim array with 12 elements\n",
    "print(f'{arr3} has {arr3.ndim} dimension')\n",
    "print(arr3.__array_interface__['data'][0])\n",
    "\n",
    "two_dim_arr = np.reshape(arr3, (3,4))\n",
    "print(f'{two_dim_arr} has {two_dim_arr.ndim} dimension')\n",
    "print(two_dim_arr.__array_interface__['data'][0])\n",
    "\n",
    "two_dim_arr[1][0]= 67\n",
    "\n",
    "print(arr3, two_dim_arr) # This confirms that reshape creates a view and changes to view also changes the original\n",
    "print(\"-----------------------------\")\n",
    "\n",
    "\"\"\"\n",
    "Flatenning the arrays\n",
    "\"\"\"\n",
    "flat_test = np.random.rand(3,4)\n",
    "\n",
    "flat_arr = np.reshape(flat_test,-1) # move one dim earlier\n",
    "\n",
    "print(f'Original array was \\n {flat_test},\\n\\n Flatenned array is \\n{flat_arr}')\n"
   ]
  },
  {
   "cell_type": "code",
   "execution_count": null,
   "id": "c6db4cc3",
   "metadata": {},
   "outputs": [],
   "source": []
=======
    "one_dim = np.random.rand(10)\n",
    "print(one_dim)\n",
    "two_dim = np.random.rand(2,4) # rows, columns\n",
    "print(two_dim)\n",
    "three_dim = np.random.rand(2,4,2) \n",
    "print(three_dim)"
   ]
>>>>>>> 775d4e6c1aa5f88d6419ede2b23503feb5be161b
  }
 ],
 "metadata": {
  "kernelspec": {
   "display_name": "Python 3",
   "language": "python",
   "name": "python3"
  },
  "language_info": {
   "codemirror_mode": {
    "name": "ipython",
    "version": 3
   },
   "file_extension": ".py",
   "mimetype": "text/x-python",
   "name": "python",
   "nbconvert_exporter": "python",
   "pygments_lexer": "ipython3",
<<<<<<< HEAD
   "version": "3.12.10"
=======
   "version": "3.13.1"
>>>>>>> 775d4e6c1aa5f88d6419ede2b23503feb5be161b
  }
 },
 "nbformat": 4,
 "nbformat_minor": 5
}
