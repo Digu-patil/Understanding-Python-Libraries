{
 "cells": [
  {
   "cell_type": "markdown",
   "id": "b9ba1ac4",
   "metadata": {},
   "source": [
    "# Basics"
   ]
  },
  {
   "cell_type": "markdown",
   "id": "bfd10063",
   "metadata": {},
   "source": [
    "Let's consdier the following Python List\n",
    "\n",
    "There are a few points that we should note here\n",
    "1. the list has differnt datatypes\n",
    "2. each element 1,two and 3.0 is a full fledged python object and has it's own information\n",
    "    a. Type information\n",
    "    b. Reference count\n",
    "    c. The value itself\n",
    "3. The list just stores the reference to these objects\n",
    "4. The main point to note here is that the memory is scattered and it's inefficient for numberic operations"
   ]
  },
  {
   "cell_type": "code",
   "execution_count": 30,
   "id": "32edba0a",
   "metadata": {},
   "outputs": [
    {
     "name": "stdout",
     "output_type": "stream",
     "text": [
      "1 is of type <class 'int'> and is located at 140705101513640\n",
      "two is of type <class 'str'> and is located at 2589548991648\n",
      "3.0 is of type <class 'float'> and is located at 2589698837648\n"
     ]
    }
   ],
   "source": [
    "py_list = [1,\"two\", 3.0]\n",
    "for i in py_list:\n",
    "    print(f'{i} is of type {type(i)} and is located at {id(i)}')"
   ]
  },
  {
   "cell_type": "markdown",
   "id": "c7d6ef56",
   "metadata": {},
   "source": [
    "This is where numpy makes a great difference\n",
    "1. It allows only same data type elements\n",
    "2. The array only needs raw data, and the shape of the number of rows and columns\n",
    "\n",
    "Few more points to note are\n",
    "1. numpy \"upcasts\" the entire array -> in this case it upcasted the entire array to string\n",
    "2. id() gives the memoery address for regular python object. "
   ]
  },
  {
   "cell_type": "code",
   "execution_count": 31,
   "id": "3d99376c",
   "metadata": {},
   "outputs": [
    {
     "name": "stdout",
     "output_type": "stream",
     "text": [
      "1 is of type <class 'numpy.str_'> and is located at <memory at 0x0000025AEFAA1080>\n",
      "two is of type <class 'numpy.str_'> and is located at <memory at 0x0000025AEFAA1BC0>\n",
      "3.0 is of type <class 'numpy.str_'> and is located at <memory at 0x0000025AEFAA1BC0>\n"
     ]
    }
   ],
   "source": [
    "import numpy as np\n",
    "\n",
    "numpy_array = np.array(py_list)\n",
    "for i in numpy_array:\n",
    "    print(f'{i} is of type {type(i)} and is located at {i.data}')"
   ]
  },
  {
   "cell_type": "markdown",
   "id": "7f5f6a24",
   "metadata": {},
   "source": [
    "# List V/S Array"
   ]
  },
  {
   "cell_type": "markdown",
   "id": "835f0b55",
   "metadata": {},
   "source": [
    "1. Once we define the size of a numpy array we cannot modify it, unlike we can append on list\n",
    "2. Numpy array are faster as they are stored as a contiguous blocks of memory\n",
    "3. They are 6 times more memory efficient than reqular lists"
   ]
  },
  {
   "cell_type": "code",
   "execution_count": 35,
   "id": "48fe50e2",
   "metadata": {},
   "outputs": [
    {
     "name": "stdout",
     "output_type": "stream",
     "text": [
      "py_list_1000 is of type <class 'list'> and it has 990000 elements and the size of the list is 8448728 bytes\n",
      "py_list_1000 is of type <class 'numpy.ndarray'> and it has 990000 elements and the size of the list is 7920112 bytes\n",
      "py_list_1000 is of type <class 'numpy.ndarray'> and it has 990000 elements and the size of the list is 7920000 bytes\n",
      "1.35 ms ± 26.6 μs per loop (mean ± std. dev. of 7 runs, 1,000 loops each)\n",
      "80.4 ms ± 2.66 ms per loop (mean ± std. dev. of 7 runs, 10 loops each)\n"
     ]
    }
   ],
   "source": [
    "import sys\n",
    "import timeit\n",
    "py_list_1000 = []\n",
    "append_operation = [py_list_1000.append(float(i)) for i in range(10000,1000000)]\n",
    "\n",
    "print(f\"py_list_1000 is of type {type(py_list_1000)} and it has {len(py_list_1000)} elements and the size of the list is {sys.getsizeof(py_list_1000)} bytes\")\n",
    "\n",
    "numpy_array_1000 = np.array(py_list_1000)\n",
    "print(f\"py_list_1000 is of type {type(numpy_array_1000)} and it has {len(numpy_array_1000)} elements and the size of the list is {sys.getsizeof(numpy_array_1000)} bytes\")\n",
    "\n",
    "\"\"\"\n",
    "array.size v/s len()\n",
    "array.nbytes v/s sys.getsizeof()\n",
    "\n",
    "sys.getsizeof() this retuns the size of the python object, it has all the metadata\n",
    "while nbytes only does the itemsize * elements in this case 8 bytes for int * 1000 elements\n",
    "\"\"\"\n",
    "print(f\"py_list_1000 is of type {type(numpy_array_1000)} and it has {numpy_array_1000.size} elements and the size of the list is {numpy_array_1000.nbytes} bytes\")\n",
    "\n",
    "\"\"\"\n",
    "Lets do some math operation on lists and arrays\n",
    "\"\"\"\n",
    "%timeit numpy_array_1000**2\n",
    "%timeit [py_list_1000[i]**2 for i in range(len(py_list_1000))]\n"
   ]
  },
  {
   "cell_type": "markdown",
   "id": "88e6ea4a",
   "metadata": {},
   "source": [
    "# N-Dimensional Arrays\n",
    "1. These are core to the numpy library"
   ]
  },
  {
   "cell_type": "code",
   "execution_count": 55,
   "id": "90e7a2b7",
   "metadata": {},
   "outputs": [
    {
     "name": "stdout",
     "output_type": "stream",
     "text": [
      "array([1, 2, 3, 4, 5, 6, 7]) is of 1 dimensions\n",
      "array([[1, 2, 3],\n",
      "       [4, 5, 6]]) is of 2 dimensions\n",
      "array([[[1, 2],\n",
      "        [3, 4]],\n",
      "\n",
      "       [[5, 6],\n",
      "        [7, 8]]]) is of 3 dimensions\n"
     ]
    }
   ],
   "source": [
    "vector = np.array([1,2,3,4,5,6,7]) #One Dimensional Array\n",
    "matrix = np.array([[1,2,3],[4,5,6]]) #Two Dimensional Array\n",
    "tensor = np.array([[[1,2],[3,4]],[[5,6],[7,8]]]) #Three Dimensional Array\n",
    "\n",
    "print(f'{repr(vector)} is of {vector.ndim} dimensions')\n",
    "print(f'{repr(matrix)} is of {matrix.ndim} dimensions')\n",
    "print(f'{repr(tensor)} is of {tensor.ndim} dimensions')"
   ]
  },
  {
   "cell_type": "code",
   "execution_count": 57,
   "id": "f19353ff",
   "metadata": {},
   "outputs": [
    {
     "name": "stdout",
     "output_type": "stream",
     "text": [
      "2\n",
      "1 6\n",
      "1 6\n",
      "1 8\n"
     ]
    }
   ],
   "source": [
    "\"\"\"\n",
    "Let's ty to do a few things\n",
    "1. Vector = Get 2nd element of the vector\n",
    "2. Matrix = Get 1st element of the 1st array and the last element of the 2nd array \n",
    "3. Tensor = Get the \n",
    "\"\"\"\n",
    "\n",
    "print(vector[1])\n",
    "print(matrix[0][0], matrix[1][-1])\n",
    "print(matrix[0,0], matrix[1,-1])\n",
    "print(tensor[0,0,0], tensor[-1,-1,-1])"
   ]
  },
  {
   "cell_type": "markdown",
   "id": "6825b6b5",
   "metadata": {},
   "source": [
    "## arange() and linspace()"
   ]
  },
  {
   "cell_type": "code",
   "execution_count": null,
   "id": "f3731488",
   "metadata": {},
   "outputs": [
    {
     "name": "stdout",
     "output_type": "stream",
     "text": [
      "[0 1 2 3 4 5 6 7 8 9]\n",
      "[0 2 4 6 8]\n",
      "[1.         1.02040816 1.04081633 1.06122449 1.08163265 1.10204082\n",
      " 1.12244898 1.14285714 1.16326531 1.18367347 1.20408163 1.2244898\n",
      " 1.24489796 1.26530612 1.28571429 1.30612245 1.32653061 1.34693878\n",
      " 1.36734694 1.3877551  1.40816327 1.42857143 1.44897959 1.46938776\n",
      " 1.48979592 1.51020408 1.53061224 1.55102041 1.57142857 1.59183673\n",
      " 1.6122449  1.63265306 1.65306122 1.67346939 1.69387755 1.71428571\n",
      " 1.73469388 1.75510204 1.7755102  1.79591837 1.81632653 1.83673469\n",
      " 1.85714286 1.87755102 1.89795918 1.91836735 1.93877551 1.95918367\n",
      " 1.97959184 2.        ]\n",
      "[1.   1.25 1.5  1.75 2.  ]\n"
     ]
    }
   ],
   "source": [
    "# Creating array using arange\n",
    "\n",
    "arr1 = np.arange(10)\n",
    "print(arr1)\n",
    "\n",
    "even_arr1 = np.arange(0,10,2)\n",
    "print(even_arr1)\n",
    "\n",
    "# Using linspace to get floating point numbers as well\n",
    "print(np.linspace(1,2)) # by default we get 50 values\n",
    "print(np.linspace(1,2,5)) # limiting the elements"
   ]
  },
  {
   "cell_type": "markdown",
   "id": "db53b17f",
   "metadata": {},
   "source": [
    "## random.rand()"
   ]
  },
  {
   "cell_type": "code",
   "execution_count": 77,
   "id": "d1a10db7",
   "metadata": {},
   "outputs": [
    {
     "name": "stdout",
     "output_type": "stream",
     "text": [
      "[0.24755926 0.12278829 0.04829644 0.24669538 0.17014655 0.0698342\n",
      " 0.92659094 0.64762601 0.03723735 0.48779578]\n",
      "[[0.8699658  0.1086665  0.69930077 0.24544428]\n",
      " [0.13144901 0.18382042 0.80152216 0.28677452]]\n",
      "[[[0.04452322 0.54667014]\n",
      "  [0.75136029 0.88903402]\n",
      "  [0.43090447 0.7629315 ]\n",
      "  [0.4569626  0.91115966]]\n",
      "\n",
      " [[0.91295003 0.62810503]\n",
      "  [0.09256024 0.76065464]\n",
      "  [0.88428353 0.9840755 ]\n",
      "  [0.05671442 0.75878193]]]\n"
     ]
    }
   ],
   "source": [
    "one_dim = np.random.rand(10)\n",
    "print(one_dim)\n",
    "two_dim = np.random.rand(2,4) # rows, columns\n",
    "print(two_dim)\n",
    "three_dim = np.random.rand(2,4,2) \n",
    "print(three_dim)"
   ]
  }
 ],
 "metadata": {
  "kernelspec": {
   "display_name": "Python 3",
   "language": "python",
   "name": "python3"
  },
  "language_info": {
   "codemirror_mode": {
    "name": "ipython",
    "version": 3
   },
   "file_extension": ".py",
   "mimetype": "text/x-python",
   "name": "python",
   "nbconvert_exporter": "python",
   "pygments_lexer": "ipython3",
   "version": "3.13.1"
  }
 },
 "nbformat": 4,
 "nbformat_minor": 5
}
