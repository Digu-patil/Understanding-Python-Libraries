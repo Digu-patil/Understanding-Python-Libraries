{
 "cells": [
  {
   "cell_type": "markdown",
   "id": "53a5e005",
   "metadata": {},
   "source": [
    "## OS Python Library\n",
    "- This Library is used to access operating system dependet functionality\n",
    "- Navigate the file System\n",
    "- List/Rename/Delete Files and Folders\n",
    "- Check File Paths\n",
    "- Work with Evnironment Variables\n",
    "- System Automation"
   ]
  }
 ],
 "metadata": {
  "language_info": {
   "name": "python"
  }
 },
 "nbformat": 4,
 "nbformat_minor": 5
}
